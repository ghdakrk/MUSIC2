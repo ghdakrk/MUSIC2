{
 "cells": [
  {
   "cell_type": "code",
   "execution_count": 1,
   "metadata": {},
   "outputs": [],
   "source": [
    "import numpy as np\n",
    "from scipy.io.wavfile import write\n",
    "from scipy import signal\n",
    "import os\n",
    "\n",
    "samplerate = 44100 #Frequecy in Hz\n",
    "\n",
    "def get_sawwave(chords, duration=0.5):\n",
    "    '''\n",
    "    Function takes the \"frequecy\" and \"time_duration\" for a wave \n",
    "    as the input and returns a \"numpy array\" of values at all points \n",
    "    in time\n",
    "    '''\n",
    "    \n",
    "    amplitude = 4096\n",
    "    t = np.linspace(0, duration, int(samplerate * duration))\n",
    "    # wave = amplitude * (np.sin(2 * np.pi * freq * t) + np.cos(2 * np.pi * freq * t))\n",
    "    # wave = signal.sawtooth(np.sin(2 * np.pi * freq * t))\n",
    "    wave = 0\n",
    "    for i in chords:\n",
    "        wave += amplitude * signal.sawtooth(np.sin(2 * np.pi * i * t))\n",
    "    return wave\n",
    "\n",
    "samplerate = 44100 #Frequecy in Hz\n",
    "\n",
    "def get_sinewave(chords, duration=0.5):\n",
    "    '''\n",
    "    Function takes the \"frequecy\" and \"time_duration\" for a wave \n",
    "    as the input and returns a \"numpy array\" of values at all points \n",
    "    in time\n",
    "    '''\n",
    "    \n",
    "    amplitude = 4096\n",
    "    t = np.linspace(0, duration, int(samplerate * duration))\n",
    "    wave = 0\n",
    "    for i in chords:\n",
    "        wave += amplitude * (np.sin(2 * np.pi * i * t))\n",
    "    # wave = signal.sawtooth(np.sin(2 * np.pi * freq * t))\n",
    "    # wave = amplitude * signal.sawtooth(np.sin(2 * np.pi * freq * t))\n",
    "    return wave"
   ]
  },
  {
   "cell_type": "code",
   "execution_count": 2,
   "metadata": {},
   "outputs": [
    {
     "data": {
      "text/plain": [
       "dict_items([('C1', 130.8125), ('C1#', 138.59101603087532), ('D1', 146.83206669446986), ('D1#', 155.56315573129345), ('E1', 164.8134223393731), ('F1', 174.61373842361763), ('F1#', 184.9968116279305), ('G1', 195.9972944939309), ('G1#', 207.65190011059008), ('A1', 219.99952464075307), ('A1#', 233.08137713346628), ('B1', 246.94111705534806), ('', 0.0), ('D1b', 155.56315573129345), ('E1b', 155.56315573129345), ('G1b', 184.9968116279305), ('A1b', 207.65190011059008), ('B1b', 233.08137713346628), ('C2', 261.625), ('C12', 277.18203206175065), ('D2', 293.6641333889397), ('D12', 311.1263114625869), ('E2', 329.6268446787462), ('F2', 349.22747684723527), ('F12', 369.993623255861), ('G2', 391.9945889878618), ('G12', 369.993623255861), ('A2', 439.99904928150613), ('A12', 415.30380022118015), ('B2', 493.8822341106961), ('2', 0.0), ('E12', 311.1263114625869), ('B12', 466.16275426693255), ('C3', 523.25), ('C13', 554.3640641235013), ('D3', 587.3282667778794), ('D13', 622.2526229251738), ('E3', 659.2536893574924), ('F3', 698.4549536944705), ('F13', 739.987246511722), ('G3', 783.9891779757236), ('G13', 739.987246511722), ('A3', 879.9980985630123), ('A13', 830.6076004423603), ('B3', 987.7644682213922), ('3', 0.0), ('E13', 622.2526229251738), ('B13', 932.3255085338651)])"
      ]
     },
     "execution_count": 2,
     "metadata": {},
     "output_type": "execute_result"
    }
   ],
   "source": [
    "def get_piano_notes():\n",
    "      '''\n",
    "      Returns a dict object for all the piano \n",
    "      note's frequencies\n",
    "      '''\n",
    "      # White keys are in Uppercase and black keys (sharps) are in lowercase\n",
    "      octave2 = ['C1', 'C1#', 'D1', 'D1#', 'E1', 'F1', 'F1#', 'G1', 'G1#', 'A1', 'A1#', 'B1'] \n",
    "      base_freq = 523.25 / 4 #Frequency of Note C4\n",
    "      \n",
    "      note_freqs = {octave2[i]: base_freq * pow(2,(i/12)) for i in range(len(octave2))}        \n",
    "      note_freqs[''] = 0.0 # silent note\n",
    "      note_freqs['D1b'] = note_freqs['D1#']\n",
    "      note_freqs['E1b'] = note_freqs['D1#']\n",
    "      note_freqs['G1b'] = note_freqs['F1#']\n",
    "      note_freqs['A1b'] = note_freqs['G1#']\n",
    "      note_freqs['B1b'] = note_freqs['A1#']\n",
    "\n",
    "      note_freqs2 = {}\n",
    "      for i in range(18):\n",
    "        note_freqs2[f\"{list(note_freqs.keys())[i][:-1]}2\"] = list(np.array(list(note_freqs.values()))*2)[i]\n",
    "\n",
    "      note_freqs3 = {}\n",
    "      for i in range(18):\n",
    "        note_freqs3[f\"{list(note_freqs.keys())[i][:-1]}3\"] = list(np.array(list(note_freqs.values()))*4)[i]\n",
    "      \n",
    "      note_freqs.update(note_freqs2)\n",
    "      note_freqs.update(note_freqs3)\n",
    "\n",
    "      return note_freqs\n",
    "    \n",
    "    # To get the piano note's frequencies\n",
    "note_freqs2 = get_piano_notes()\n",
    "note_freqs2.items()"
   ]
  },
  {
   "cell_type": "code",
   "execution_count": 3,
   "metadata": {},
   "outputs": [],
   "source": [
    "def get_freq(input_note):\n",
    "    ls = input_note.split(\"-\")\n",
    "    freqs = []\n",
    "    note_freqs = get_piano_notes() # Function that we made earlier\n",
    "\n",
    "    for i in ls:\n",
    "        freqs.append(note_freqs[i])\n",
    "    return freqs"
   ]
  },
  {
   "cell_type": "code",
   "execution_count": 4,
   "metadata": {},
   "outputs": [
    {
     "data": {
      "text/plain": [
       "0"
      ]
     },
     "execution_count": 4,
     "metadata": {},
     "output_type": "execute_result"
    }
   ],
   "source": [
    "def get_song_data(music_notes, durations):\n",
    "    \n",
    "    song = []\n",
    "    for i, note in enumerate(music_notes):\n",
    "        song.append(get_sawwave(note, duration=durations[i]))\n",
    "    song = np.concatenate(song)\n",
    "    return song\n",
    "\n",
    "music_notes = [('B1',0.15), ('',0.1), ('B1',0.15), ('B2',0.3),\n",
    "                ('D1',0.15), ('',0.1), ('D1',0.15), ('A2',0.3),\n",
    "                ('F2',0.15), ('E1',0.1), ('F1',0.15), ('F2',0.3),('',4),\n",
    "                ('B1',0.15), ('',0.1), ('B1',0.15), ('B2',0.3),\n",
    "                ('D1',0.15), ('',0.1), ('D1',0.15), ('A2',0.3),\n",
    "                ('F2',0.15), ('E1',0.1), ('F1',0.15), ('F2',0.3),('',4),\n",
    "                ('B1',0.15), ('',0.1), ('B1',0.15), ('B2',0.3),\n",
    "                ('D1',0.15), ('',0.1), ('D1',0.15), ('A2',0.3),\n",
    "                ('F2',0.15), ('E1',0.1), ('F1',0.15), ('F2',0.3),('',0.05),\n",
    "                ('B1',0.15), ('',0.1), ('B1',0.15), ('B2',0.3),\n",
    "                ('D1',0.15), ('',0.1), ('D1',0.15), ('A2',0.3),\n",
    "                ('F2',0.15), ('E1',0.1), ('F1',0.15), ('F2',0.3),('',0.05),\n",
    "                ]\n",
    "music_note = [get_freq(note[0]) for note in music_notes]\n",
    "durations = [note[1] for note in music_notes]\n",
    "\n",
    "data_saw = get_song_data(music_note, durations)\n",
    "data_saw = data_saw * (16300/np.max(data_saw)) # Adjusting the Amplitude (Optional)\n",
    "\n",
    "\n",
    "write('sax_boom.wav', samplerate, data_saw.astype(np.int16))\n",
    "# play wav file\n",
    "os.system(\"sax_boom.wav\")"
   ]
  },
  {
   "cell_type": "code",
   "execution_count": null,
   "metadata": {},
   "outputs": [],
   "source": []
  }
 ],
 "metadata": {
  "interpreter": {
   "hash": "be3a450ae056f83d7ade2b901f772a26fc828bc81af96bc522c29bb44d5db4b0"
  },
  "kernelspec": {
   "display_name": "Python 3.9.6 64-bit ('tf_gpu': conda)",
   "name": "python3"
  },
  "language_info": {
   "codemirror_mode": {
    "name": "ipython",
    "version": 3
   },
   "file_extension": ".py",
   "mimetype": "text/x-python",
   "name": "python",
   "nbconvert_exporter": "python",
   "pygments_lexer": "ipython3",
   "version": "3.9.6"
  },
  "orig_nbformat": 4
 },
 "nbformat": 4,
 "nbformat_minor": 2
}

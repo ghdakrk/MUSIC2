{
 "cells": [
  {
   "cell_type": "code",
   "execution_count": 7,
   "metadata": {},
   "outputs": [],
   "source": [
    "import numpy as np\n",
    "from scipy.io.wavfile import write\n",
    "from scipy import signal\n",
    "import os\n",
    "\n",
    "samplerate = 44100 #Frequecy in Hz\n",
    "\n",
    "def get_sawwave(chords, duration=0.5):\n",
    "    '''\n",
    "    Function takes the \"frequecy\" and \"time_duration\" for a wave \n",
    "    as the input and returns a \"numpy array\" of values at all points \n",
    "    in time\n",
    "    '''\n",
    "    \n",
    "    amplitude = 4096\n",
    "    t = np.linspace(0, duration, int(samplerate * duration))\n",
    "    # wave = amplitude * (np.sin(2 * np.pi * freq * t) + np.cos(2 * np.pi * freq * t))\n",
    "    # wave = signal.sawtooth(np.sin(2 * np.pi * freq * t))\n",
    "    wave = 0\n",
    "    for i in chords:\n",
    "        wave += amplitude * signal.square(np.sin(2 * np.pi * i * t))\n",
    "    noise = np.random.uniform(-1, 1, len(t))*1\n",
    "    wave += noise\n",
    "    return wave\n",
    "\n",
    "samplerate = 44100 #Frequecy in Hz\n",
    "\n",
    "def get_sinewave(chords, duration=0.5):\n",
    "    '''\n",
    "    Function takes the \"frequecy\" and \"time_duration\" for a wave \n",
    "    as the input and returns a \"numpy array\" of values at all points \n",
    "    in time\n",
    "    '''\n",
    "    \n",
    "    amplitude = 8192\n",
    "    t = np.linspace(0, duration, int(samplerate * duration))\n",
    "    wave = 0\n",
    "    for i in chords:\n",
    "        wave += amplitude * (np.sin(2 * np.pi * i * t))\n",
    "    noise = np.random.uniform(-1, 1, len(t))*1\n",
    "    wave += noise\n",
    "    return wave"
   ]
  },
  {
   "cell_type": "code",
   "execution_count": 8,
   "metadata": {},
   "outputs": [],
   "source": [
    "def get_drum_notes():\n",
    "      '''\n",
    "      Returns a dict object for all the piano \n",
    "      note's frequencies\n",
    "      '''\n",
    "      # White keys are in Uppercase and black keys (sharps) are in lowercase\n",
    "\n",
    "      note_freqs = {}        \n",
    "      note_freqs[''] = 0.0 # silent note\n",
    "      note_freqs['1'] = 80\n",
    "      note_freqs['2'] = 100\n",
    "      note_freqs['3'] = 120\n",
    "      note_freqs['4'] = 150\n",
    "\n",
    "      \n",
    "\n",
    "      return note_freqs\n",
    "    \n",
    "    # To get the piano note's frequencies"
   ]
  },
  {
   "cell_type": "code",
   "execution_count": 9,
   "metadata": {},
   "outputs": [],
   "source": [
    "def get_freq(input_note):\n",
    "    ls = input_note.split(\"-\")\n",
    "    freqs = []\n",
    "    note_freqs = get_drum_notes() # Function that we made earlier\n",
    "\n",
    "    for i in ls:\n",
    "        freqs.append(note_freqs[i])\n",
    "    return freqs"
   ]
  },
  {
   "cell_type": "code",
   "execution_count": 23,
   "metadata": {},
   "outputs": [],
   "source": [
    "def get_song_data(music_notes, durations):\n",
    "    \n",
    "    song = []\n",
    "    for i, note in enumerate(music_notes):\n",
    "        song.append(get_sawwave(note, duration=durations[i]))\n",
    "    song = np.concatenate(song)\n",
    "    return song\n",
    "\n",
    "music_notes = [('1',0.25), ('',0.25), ('1',0.25), ('',0.25),\n",
    "               ('3',0.25), ('',0.25), ('2',0.25), ('',0.25),\n",
    "               ('1',0.25), ('',0.25), ('1',0.25), ('',0.25),\n",
    "               ('3',0.25), ('',0.25), ('2',0.25), ('',0.25),\n",
    "               ('1',0.25), ('',0.25), ('1',0.25), ('',0.25),\n",
    "               ('3',0.25), ('',0.25), ('2',0.25), ('',0.25),\n",
    "               \n",
    "                ]\n",
    "music_note = [get_freq(note[0]) for note in music_notes]\n",
    "durations = [note[1] for note in music_notes]\n",
    "\n",
    "data_sine = get_song_data(music_note, durations)\n",
    "data_sine = data_sine * (16300/np.max(data_sine)) # Adjusting the Amplitude (Optional)"
   ]
  },
  {
   "cell_type": "code",
   "execution_count": 24,
   "metadata": {},
   "outputs": [
    {
     "data": {
      "text/plain": [
       "0"
      ]
     },
     "execution_count": 24,
     "metadata": {},
     "output_type": "execute_result"
    }
   ],
   "source": [
    "data = data_sine\n",
    "\n",
    "write('test_bit.wav', samplerate, data.astype(np.int16))\n",
    "# play wav file\n",
    "os.system(\"test_bit.wav\")"
   ]
  }
 ],
 "metadata": {
  "interpreter": {
   "hash": "be3a450ae056f83d7ade2b901f772a26fc828bc81af96bc522c29bb44d5db4b0"
  },
  "kernelspec": {
   "display_name": "Python 3.9.6 64-bit ('tf_gpu': conda)",
   "name": "python3"
  },
  "language_info": {
   "codemirror_mode": {
    "name": "ipython",
    "version": 3
   },
   "file_extension": ".py",
   "mimetype": "text/x-python",
   "name": "python",
   "nbconvert_exporter": "python",
   "pygments_lexer": "ipython3",
   "version": "3.9.6"
  },
  "orig_nbformat": 4
 },
 "nbformat": 4,
 "nbformat_minor": 2
}

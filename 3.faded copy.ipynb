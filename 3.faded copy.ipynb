{
 "cells": [
  {
   "cell_type": "code",
   "execution_count": 1,
   "metadata": {},
   "outputs": [],
   "source": [
    "import numpy as np\n",
    "from scipy.io.wavfile import write\n",
    "from scipy import signal\n",
    "import os\n",
    "\n",
    "samplerate = 44100 #Frequecy in Hz\n",
    "\n",
    "def get_sawwave(chords, duration=0.5):\n",
    "    '''\n",
    "    Function takes the \"frequecy\" and \"time_duration\" for a wave \n",
    "    as the input and returns a \"numpy array\" of values at all points \n",
    "    in time\n",
    "    '''\n",
    "    \n",
    "    amplitude = 1024\n",
    "    t = np.linspace(0, duration, int(samplerate * duration))\n",
    "    # wave = amplitude * (np.sin(2 * np.pi * freq * t) + np.cos(2 * np.pi * freq * t))\n",
    "    # wave = signal.sawtooth(np.sin(2 * np.pi * freq * t))\n",
    "    wave = 0\n",
    "    for i in chords:\n",
    "        wave += amplitude * signal.cubic(np.sin(2 * np.pi * i * t))\n",
    "    noise = np.random.uniform(-1, 1, len(t))*1\n",
    "    wave += noise\n",
    "    return wave\n",
    "\n",
    "samplerate = 44100 #Frequecy in Hz\n",
    "\n",
    "def get_sinewave(chords, duration=0.5):\n",
    "    '''\n",
    "    Function takes the \"frequecy\" and \"time_duration\" for a wave \n",
    "    as the input and returns a \"numpy array\" of values at all points \n",
    "    in time\n",
    "    '''\n",
    "    \n",
    "    amplitude = 4096\n",
    "    t = np.linspace(0, duration, int(samplerate * duration))\n",
    "    wave = 0\n",
    "    for i in chords:\n",
    "        wave += amplitude * (np.cos(2 * np.pi * i * t))\n",
    "    noise = np.random.uniform(-1, 1, len(t))*1\n",
    "    wave += noise\n",
    "    return wave"
   ]
  },
  {
   "cell_type": "code",
   "execution_count": 2,
   "metadata": {},
   "outputs": [
    {
     "data": {
      "text/plain": [
       "dict_items([('C1', 130.8125), ('C#1', 138.59101603087532), ('D1', 146.83206669446986), ('D#1', 155.56315573129345), ('E1', 164.8134223393731), ('F1', 174.61373842361763), ('F#1', 184.9968116279305), ('G1', 195.9972944939309), ('G#1', 207.65190011059008), ('A1', 219.99952464075307), ('A#1', 233.08137713346628), ('B1', 246.94111705534806), ('', 0.0), ('Db1', 155.56315573129345), ('Eb1', 155.56315573129345), ('Gb1', 184.9968116279305), ('Ab1', 207.65190011059008), ('Bb1', 233.08137713346628), ('C2', 261.625), ('C#2', 277.18203206175065), ('D2', 293.6641333889397), ('D#2', 311.1263114625869), ('E2', 329.6268446787462), ('F2', 349.22747684723527), ('F#2', 369.993623255861), ('G2', 391.9945889878618), ('G#2', 415.30380022118015), ('A2', 439.99904928150613), ('A#2', 466.16275426693255), ('B2', 493.8822341106961), ('2', 0.0), ('Db2', 311.1263114625869), ('Eb2', 311.1263114625869), ('Gb2', 369.993623255861), ('Ab2', 415.30380022118015), ('Bb2', 466.16275426693255), ('C3', 523.25), ('C#3', 554.3640641235013), ('D3', 587.3282667778794), ('D#3', 622.2526229251738), ('E3', 659.2536893574924), ('F3', 698.4549536944705), ('F#3', 739.987246511722), ('G3', 783.9891779757236), ('G#3', 830.6076004423603), ('A3', 879.9980985630123), ('A#3', 932.3255085338651), ('B3', 987.7644682213922), ('3', 0.0), ('Db3', 622.2526229251738), ('Eb3', 622.2526229251738), ('Gb3', 739.987246511722), ('Ab3', 830.6076004423603), ('Bb3', 932.3255085338651)])"
      ]
     },
     "execution_count": 2,
     "metadata": {},
     "output_type": "execute_result"
    }
   ],
   "source": [
    "def get_piano_notes():\n",
    "      '''\n",
    "      Returns a dict object for all the piano \n",
    "      note's frequencies\n",
    "      '''\n",
    "      # White keys are in Uppercase and black keys (sharps) are in lowercase\n",
    "      octave2 = ['C1', 'C#1', 'D1', 'D#1', 'E1', 'F1', 'F#1', 'G1', 'G#1', 'A1', 'A#1', 'B1'] \n",
    "      base_freq = 523.25 / 4 #Frequency of Note C4\n",
    "      \n",
    "      note_freqs = {octave2[i]: base_freq * pow(2,(i/12)) for i in range(len(octave2))}        \n",
    "      note_freqs[''] = 0.0 # silent note\n",
    "      note_freqs['Db1'] = note_freqs['D#1']\n",
    "      note_freqs['Eb1'] = note_freqs['D#1']\n",
    "      note_freqs['Gb1'] = note_freqs['F#1']\n",
    "      note_freqs['Ab1'] = note_freqs['G#1']\n",
    "      note_freqs['Bb1'] = note_freqs['A#1']\n",
    "\n",
    "      note_freqs2 = {}\n",
    "      for i in range(18):\n",
    "        note_freqs2[f\"{list(note_freqs.keys())[i][:-1]}2\"] = list(np.array(list(note_freqs.values()))*2)[i]\n",
    "\n",
    "      note_freqs3 = {}\n",
    "      for i in range(18):\n",
    "        note_freqs3[f\"{list(note_freqs.keys())[i][:-1]}3\"] = list(np.array(list(note_freqs.values()))*4)[i]\n",
    "      \n",
    "      note_freqs.update(note_freqs2)\n",
    "      note_freqs.update(note_freqs3)\n",
    "\n",
    "      return note_freqs\n",
    "    \n",
    "    # To get the piano note's frequencies\n",
    "note_freqs2 = get_piano_notes()\n",
    "note_freqs2.items()"
   ]
  },
  {
   "cell_type": "code",
   "execution_count": 3,
   "metadata": {},
   "outputs": [],
   "source": [
    "def get_freq(input_note):\n",
    "    ls = input_note.split(\"-\")\n",
    "    freqs = []\n",
    "    note_freqs = get_piano_notes() # Function that we made earlier\n",
    "\n",
    "    for i in ls:\n",
    "        freqs.append(note_freqs[i])\n",
    "    return freqs"
   ]
  },
  {
   "cell_type": "code",
   "execution_count": 4,
   "metadata": {},
   "outputs": [],
   "source": [
    "def get_song_data(music_notes, durations):\n",
    "    \n",
    "    song = []\n",
    "    for i, note in enumerate(music_notes):\n",
    "        song.append(get_sawwave(note, duration=durations[i]))\n",
    "    song = np.concatenate(song)\n",
    "    return song\n",
    "\n",
    "music_notes = [('G2', 0.25), ('', 0.25), ('G2', 0.25), ('', 0.25), ('G2', 0.25), ('', 0.25), ('B2', 0.25), ('', 0.25),\n",
    "               ('E3', 0.25), ('', 0.25), ('E3', 0.25), ('', 0.25), ('E3', 0.25), ('', 0.25), ('D3', 0.25), ('', 0.25),\n",
    "               ('B2', 0.25), ('', 0.25), ('B2', 0.25), ('', 0.25), ('B2', 0.25), ('', 0.25), ('B2', 0.25), ('', 0.25),\n",
    "               ('F#2', 0.25), ('', 0.25), ('F#2', 0.25), ('', 0.25), ('F#2', 0.25), ('', 0.25), ('E2', 0.25), ('', 0.25),\n",
    "               ('G2', 0.25), ('', 0.25), ('G2', 0.25), ('', 0.25), ('G2', 0.25), ('', 0.25), ('B2', 0.25), ('', 0.25),\n",
    "               ('E3', 0.25), ('', 0.25), ('E3', 0.25), ('', 0.25), ('E3', 0.25), ('', 0.25), ('D3', 0.25), ('', 0.25),\n",
    "               ('B2', 0.25), ('', 0.25), ('B2', 0.25), ('', 0.25), ('B2', 0.25), ('', 0.25), ('B2', 0.25), ('', 0.25),\n",
    "               ('F#2', 0.25), ('', 0.25), ('F#2', 0.25), ('', 0.25), ('F#2', 0.25), ('', 0.25), ('E2', 0.25), ('', 0.25),\n",
    "                ]\n",
    "music_note = [get_freq(note[0]) for note in music_notes]\n",
    "durations = [note[1] for note in music_notes]\n",
    "\n",
    "data_saw = get_song_data(music_note, durations)\n",
    "data_saw = data_saw * (16300/np.max(data_saw)) # Adjusting the Amplitude (Optional)"
   ]
  },
  {
   "cell_type": "code",
   "execution_count": 5,
   "metadata": {},
   "outputs": [],
   "source": [
    "def get_song_data(music_notes, durations):\n",
    "    \n",
    "    song = []\n",
    "    for i, note in enumerate(music_notes):\n",
    "        song.append(get_sawwave(note, duration=durations[i]))\n",
    "    song = np.concatenate(song)\n",
    "    return song\n",
    "\n",
    "music_notes = [('E1', 0.25), ('B1', 0.25), ('G1', 0.25), ('B1', 0.25), \n",
    "               ('E1', 0.25), ('B1', 0.25), ('G1', 0.25), ('B1', 0.25),\n",
    "               ('C1', 0.25), ('G1', 0.25), ('E1', 0.25), ('G1', 0.25), \n",
    "               ('C1', 0.25), ('G1', 0.25), ('E1', 0.25), ('G1', 0.25),\n",
    "               ('G1', 0.25), ('D2', 0.25), ('B1', 0.25), ('D2', 0.25), \n",
    "               ('G1', 0.25), ('D2', 0.25), ('B1', 0.25), ('D2', 0.25),\n",
    "               ('D1', 0.25), ('A1', 0.25), ('F#1', 0.25), ('A1', 0.25), \n",
    "               ('D1', 0.25), ('A1', 0.25), ('F#1', 0.25), ('A1', 0.25),\n",
    "               ('E1', 0.25), ('B1', 0.25), ('G1', 0.25), ('B1', 0.25), \n",
    "               ('E1', 0.25), ('B1', 0.25), ('G1', 0.25), ('B1', 0.25),\n",
    "               ('C1', 0.25), ('G1', 0.25), ('E1', 0.25), ('G1', 0.25), \n",
    "               ('C1', 0.25), ('G1', 0.25), ('E1', 0.25), ('G1', 0.25),\n",
    "               ('G1', 0.25), ('D2', 0.25), ('B1', 0.25), ('D2', 0.25), \n",
    "               ('G1', 0.25), ('D2', 0.25), ('B1', 0.25), ('D2', 0.25),\n",
    "               ('D1', 0.25), ('A1', 0.25), ('F#1', 0.25), ('A1', 0.25), \n",
    "               ('D1', 0.25), ('A1', 0.25), ('F#1', 0.25), ('A1', 0.25),\n",
    "                ]\n",
    "music_note = [get_freq(note[0]) for note in music_notes]\n",
    "durations = [note[1] for note in music_notes]\n",
    "\n",
    "data_saw2 = get_song_data(music_note, durations)\n",
    "data_saw2 = data_saw2 * (16300/np.max(data_saw2)) # Adjusting the Amplitude (Optional)"
   ]
  },
  {
   "cell_type": "code",
   "execution_count": 6,
   "metadata": {},
   "outputs": [
    {
     "data": {
      "text/plain": [
       "((705600,), (705600,))"
      ]
     },
     "execution_count": 6,
     "metadata": {},
     "output_type": "execute_result"
    }
   ],
   "source": [
    "data_saw.shape, data_saw2.shape"
   ]
  },
  {
   "cell_type": "code",
   "execution_count": 7,
   "metadata": {},
   "outputs": [
    {
     "data": {
      "text/plain": [
       "0"
      ]
     },
     "execution_count": 7,
     "metadata": {},
     "output_type": "execute_result"
    }
   ],
   "source": [
    "data = data_saw + data_saw2\n",
    "write('faded.wav', samplerate, data.astype(np.int16))\n",
    "# play wav file\n",
    "os.system(\"faded.wav\")"
   ]
  },
  {
   "cell_type": "code",
   "execution_count": null,
   "metadata": {},
   "outputs": [],
   "source": []
  }
 ],
 "metadata": {
  "interpreter": {
   "hash": "be3a450ae056f83d7ade2b901f772a26fc828bc81af96bc522c29bb44d5db4b0"
  },
  "kernelspec": {
   "display_name": "Python 3.9.6 64-bit ('tf_gpu': conda)",
   "name": "python3"
  },
  "language_info": {
   "codemirror_mode": {
    "name": "ipython",
    "version": 3
   },
   "file_extension": ".py",
   "mimetype": "text/x-python",
   "name": "python",
   "nbconvert_exporter": "python",
   "pygments_lexer": "ipython3",
   "version": "3.9.6"
  },
  "orig_nbformat": 4
 },
 "nbformat": 4,
 "nbformat_minor": 2
}

{
 "cells": [
  {
   "cell_type": "code",
   "execution_count": null,
   "metadata": {},
   "outputs": [],
   "source": [
    "from pprint import pprint\n",
    "\n",
    "alphabet_num = {}\n",
    "alphabet = 'a b c d e f g h i j k l m n o p q r s t u v w x y z . , '.split(' ')\n",
    "base_freq = 262 #hz\n",
    "note_freqs = {}\n",
    "note_freqs['a'] = 440\n",
    "note_freqs['b'] = 493\n",
    "note_freqs['c'] = 262\n",
    "note_freqs['d'] = 293\n",
    "note_freqs['e'] = 329\n",
    "note_freqs['f'] = 349\n",
    "note_freqs['g'] = 392\n",
    "note_freqs['h'] = 277\n",
    "note_freqs['i'] = 311\n",
    "note_freqs['j'] = 369\n",
    "note_freqs['k'] = 415\n",
    "note_freqs['l'] = 466\n",
    "\n",
    "for i in range(11, len(alphabet)):\n",
    "    note_freqs[alphabet[i]] = 0"
   ]
  },
  {
   "cell_type": "code",
   "execution_count": null,
   "metadata": {},
   "outputs": [],
   "source": [
    "poet = 'The Road Not Taken by Robert Frost Two roads diverged in a yellow wood And sorry I could not travel both And be one traveler, long I stood And looked down one as far as I could To where it bent in the undergrowth Then took the other, as just as fair And having perhaps the better claim, Because it was grassy and wanted wear Though as for that, the passing there Had worn them really about the same,'\n",
    "poet = poet.lower().split(\" \")"
   ]
  },
  {
   "cell_type": "code",
   "execution_count": null,
   "metadata": {},
   "outputs": [],
   "source": [
    "def get_freq(ls):\n",
    "    for i in ls:\n",
    "        freqs.append(note_freqs[i])\n",
    "    return freqs"
   ]
  },
  {
   "cell_type": "code",
   "execution_count": null,
   "metadata": {},
   "outputs": [
    {
     "data": {
      "text/plain": [
       "[['t', 'h', 'e'],\n",
       " ['r', 'o', 'a', 'd'],\n",
       " ['n', 'o', 't'],\n",
       " ['t', 'a', 'k', 'e', 'n'],\n",
       " ['b', 'y'],\n",
       " ['r', 'o', 'b', 'e', 'r', 't'],\n",
       " ['f', 'r', 'o', 's', 't'],\n",
       " ['t', 'w', 'o'],\n",
       " ['r', 'o', 'a', 'd', 's'],\n",
       " ['d', 'i', 'v', 'e', 'r', 'g', 'e', 'd'],\n",
       " ['i', 'n'],\n",
       " ['a'],\n",
       " ['y', 'e', 'l', 'l', 'o', 'w'],\n",
       " ['w', 'o', 'o', 'd'],\n",
       " ['a', 'n', 'd'],\n",
       " ['s', 'o', 'r', 'r', 'y'],\n",
       " ['i'],\n",
       " ['c', 'o', 'u', 'l', 'd'],\n",
       " ['n', 'o', 't'],\n",
       " ['t', 'r', 'a', 'v', 'e', 'l'],\n",
       " ['b', 'o', 't', 'h'],\n",
       " ['a', 'n', 'd'],\n",
       " ['b', 'e'],\n",
       " ['o', 'n', 'e'],\n",
       " ['t', 'r', 'a', 'v', 'e', 'l', 'e', 'r', ','],\n",
       " ['l', 'o', 'n', 'g'],\n",
       " ['i'],\n",
       " ['s', 't', 'o', 'o', 'd'],\n",
       " ['a', 'n', 'd'],\n",
       " ['l', 'o', 'o', 'k', 'e', 'd'],\n",
       " ['d', 'o', 'w', 'n'],\n",
       " ['o', 'n', 'e'],\n",
       " ['a', 's'],\n",
       " ['f', 'a', 'r'],\n",
       " ['a', 's'],\n",
       " ['i'],\n",
       " ['c', 'o', 'u', 'l', 'd'],\n",
       " ['t', 'o'],\n",
       " ['w', 'h', 'e', 'r', 'e'],\n",
       " ['i', 't'],\n",
       " ['b', 'e', 'n', 't'],\n",
       " ['i', 'n'],\n",
       " ['t', 'h', 'e'],\n",
       " ['u', 'n', 'd', 'e', 'r', 'g', 'r', 'o', 'w', 't', 'h'],\n",
       " ['t', 'h', 'e', 'n'],\n",
       " ['t', 'o', 'o', 'k'],\n",
       " ['t', 'h', 'e'],\n",
       " ['o', 't', 'h', 'e', 'r', ','],\n",
       " ['a', 's'],\n",
       " ['j', 'u', 's', 't'],\n",
       " ['a', 's'],\n",
       " ['f', 'a', 'i', 'r'],\n",
       " ['a', 'n', 'd'],\n",
       " ['h', 'a', 'v', 'i', 'n', 'g'],\n",
       " ['p', 'e', 'r', 'h', 'a', 'p', 's'],\n",
       " ['t', 'h', 'e'],\n",
       " ['b', 'e', 't', 't', 'e', 'r'],\n",
       " ['c', 'l', 'a', 'i', 'm', ','],\n",
       " ['b', 'e', 'c', 'a', 'u', 's', 'e'],\n",
       " ['i', 't'],\n",
       " ['w', 'a', 's'],\n",
       " ['g', 'r', 'a', 's', 's', 'y'],\n",
       " ['a', 'n', 'd'],\n",
       " ['w', 'a', 'n', 't', 'e', 'd'],\n",
       " ['w', 'e', 'a', 'r'],\n",
       " ['t', 'h', 'o', 'u', 'g', 'h'],\n",
       " ['a', 's'],\n",
       " ['f', 'o', 'r'],\n",
       " ['t', 'h', 'a', 't', ','],\n",
       " ['t', 'h', 'e'],\n",
       " ['p', 'a', 's', 's', 'i', 'n', 'g'],\n",
       " ['t', 'h', 'e', 'r', 'e'],\n",
       " ['h', 'a', 'd'],\n",
       " ['w', 'o', 'r', 'n'],\n",
       " ['t', 'h', 'e', 'm'],\n",
       " ['r', 'e', 'a', 'l', 'l', 'y'],\n",
       " ['a', 'b', 'o', 'u', 't'],\n",
       " ['t', 'h', 'e'],\n",
       " ['s', 'a', 'm', 'e', ',']]"
      ]
     },
     "execution_count": 109,
     "metadata": {},
     "output_type": "execute_result"
    }
   ],
   "source": [
    "music_notes = [[] for _ in range(len(poet))]\n",
    "for idx, word in enumerate(poet):\n",
    "    for letter in word:\n",
    "        music_notes[idx].append(letter)\n",
    "music_notes"
   ]
  },
  {
   "cell_type": "code",
   "execution_count": null,
   "metadata": {},
   "outputs": [],
   "source": [
    "import numpy as np\n",
    "from scipy.io.wavfile import write\n",
    "from scipy import signal\n",
    "import os\n",
    "\n",
    "samplerate = 44100 #Frequecy in Hz\n",
    "\n",
    "def get_cubicwave(chords, duration=0.5):\n",
    "    '''\n",
    "    Function takes the \"frequecy\" and \"time_duration\" for a wave \n",
    "    as the input and returns a \"numpy array\" of values at all points \n",
    "    in time\n",
    "    '''\n",
    "    \n",
    "    amplitude = 4096\n",
    "    t = np.linspace(0, duration, int(samplerate * duration))\n",
    "    # wave = amplitude * (np.sin(2 * np.pi * freq * t) + np.cos(2 * np.pi * freq * t))\n",
    "    # wave = signal.sawtooth(np.sin(2 * np.pi * freq * t))\n",
    "    wave = 0\n",
    "    for i in chords:\n",
    "        wave += amplitude * (np.sin(2 * np.pi * i * t) + (np.sin(6 * np.pi * i * t)/3) +\n",
    "                            (np.sin(10 * np.pi * i * t)/5))\n",
    "\n",
    "    return wave"
   ]
  },
  {
   "cell_type": "code",
   "execution_count": 111,
   "metadata": {},
   "outputs": [],
   "source": [
    "freqs = [[] for _ in range(len(music_notes))]\n",
    "for idx, values in enumerate(music_notes):\n",
    "    for value in values: \n",
    "        freqs[idx].append(note_freqs[value])"
   ]
  },
  {
   "cell_type": "code",
   "execution_count": 112,
   "metadata": {},
   "outputs": [],
   "source": [
    "dura = [[0.5] if len(note)<=3 else [1] for note in music_notes]\n",
    "dura = np.array(dura)"
   ]
  },
  {
   "cell_type": "code",
   "execution_count": 113,
   "metadata": {},
   "outputs": [],
   "source": [
    "def get_song_data(music_notes, dura):\n",
    "    \n",
    "    song = []\n",
    "    for i, note in enumerate(music_notes):\n",
    "        song.append(get_cubicwave(note, duration=dura[i]))\n",
    "    song = np.concatenate(song)\n",
    "    return song\n",
    "\n",
    "data = get_song_data(freqs, dura)\n",
    "data = data * (16300/np.max(data))"
   ]
  },
  {
   "cell_type": "code",
   "execution_count": 114,
   "metadata": {},
   "outputs": [
    {
     "data": {
      "text/plain": [
       "0"
      ]
     },
     "execution_count": 114,
     "metadata": {},
     "output_type": "execute_result"
    }
   ],
   "source": [
    "write('poet.wav', samplerate, data.astype(np.int16))\n",
    "# play wav file\n",
    "os.system(\"poet.wav\")"
   ]
  },
  {
   "cell_type": "code",
   "execution_count": 115,
   "metadata": {},
   "outputs": [
    {
     "name": "stderr",
     "output_type": "stream",
     "text": [
      "C:\\Users\\ghdak\\anaconda3\\envs\\tf_gpu\\lib\\site-packages\\matplotlib\\backends\\backend_agg.py:240: RuntimeWarning: Glyph 8722 missing from current font.\n",
      "  font.set_text(s, 0.0, flags=flags)\n",
      "C:\\Users\\ghdak\\anaconda3\\envs\\tf_gpu\\lib\\site-packages\\matplotlib\\backends\\backend_agg.py:203: RuntimeWarning: Glyph 8722 missing from current font.\n",
      "  font.set_text(s, 0, flags=flags)\n"
     ]
    },
    {
     "data": {
      "image/png": "[encoded data removed]",
      "text/plain": [
       "<Figure size 432x288 with 1 Axes>"
      ]
     },
     "metadata": {
      "needs_background": "light"
     },
     "output_type": "display_data"
    }
   ],
   "source": [
    "import matplotlib.pyplot as plt\n",
    "plt.plot(data)\n",
    "plt.show()"
   ]
  }
 ],
 "metadata": {
  "interpreter": {
   "hash": "be3a450ae056f83d7ade2b901f772a26fc828bc81af96bc522c29bb44d5db4b0"
  },
  "kernelspec": {
   "display_name": "Python 3.9.6 64-bit ('tf_gpu': conda)",
   "name": "python3"
  },
  "language_info": {
   "codemirror_mode": {
    "name": "ipython",
    "version": 3
   },
   "file_extension": ".py",
   "mimetype": "text/x-python",
   "name": "python",
   "nbconvert_exporter": "python",
   "pygments_lexer": "ipython3",
   "version": "3.9.7"
  },
  "orig_nbformat": 4
 },
 "nbformat": 4,
 "nbformat_minor": 2
}

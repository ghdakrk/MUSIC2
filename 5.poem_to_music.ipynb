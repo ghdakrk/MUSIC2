{
 "cells": [
  {
   "cell_type": "code",
   "execution_count": 150,
   "metadata": {},
   "outputs": [
    {
     "name": "stdout",
     "output_type": "stream",
     "text": [
      "{',': 555.1586614442707,\n",
      " '.': 0,\n",
      " 'a': 262.0,\n",
      " 'b': 0,\n",
      " 'c': 277.57933072213535,\n",
      " 'd': 0,\n",
      " 'e': 294.0850566570557,\n",
      " 'f': 0,\n",
      " 'g': 311.5722641307129,\n",
      " 'h': 0,\n",
      " 'i': 330.09931507245676,\n",
      " 'j': 0,\n",
      " 'k': 349.728041792549,\n",
      " 'l': 0,\n",
      " 'm': 370.52395334175094,\n",
      " 'n': 0,\n",
      " 'o': 392.55645414169055,\n",
      " 'p': 0,\n",
      " 'q': 415.8990756156682,\n",
      " 'r': 0,\n",
      " 's': 440.6297215929464,\n",
      " 't': 0,\n",
      " 'u': 466.8309283055378,\n",
      " 'v': 0,\n",
      " 'w': 494.59013984520743,\n",
      " 'x': 0,\n",
      " 'y': 524.0,\n",
      " 'z': 0}\n"
     ]
    }
   ],
   "source": [
    "from pprint import pprint\n",
    "\n",
    "alphabet_num = {}\n",
    "alphabet = 'a-b-c-d-e-f-g-h-i-j-k-l-m-n-o-p-q-r-s-t-u-v-w-x-y-z-,-.-'.split('-')\n",
    "base_freq = 262 #hz\n",
    "note_freqs = {alphabet[2*i]: base_freq * pow(2,(i/12)) for i in range(14)}\n",
    "note_freqs['b'] = 0\n",
    "note_freqs['d'] = 0\n",
    "note_freqs['f'] = 0\n",
    "note_freqs['h'] = 0\n",
    "note_freqs['j'] = 0\n",
    "note_freqs['l'] = 0\n",
    "note_freqs['n'] = 0\n",
    "note_freqs['p'] = 0\n",
    "note_freqs['r'] = 0\n",
    "note_freqs['t'] = 0\n",
    "note_freqs['v'] = 0\n",
    "note_freqs['x'] = 0\n",
    "note_freqs['z'] = 0\n",
    "note_freqs['.'] = 0\n",
    "pprint(note_freqs)\n"
   ]
  },
  {
   "cell_type": "code",
   "execution_count": 151,
   "metadata": {},
   "outputs": [
    {
     "name": "stdout",
     "output_type": "stream",
     "text": [
      "['the',\n",
      " 'road',\n",
      " 'not',\n",
      " 'taken',\n",
      " 'by',\n",
      " 'robert',\n",
      " 'frost',\n",
      " 'two',\n",
      " 'roads',\n",
      " 'diverged',\n",
      " 'in',\n",
      " 'a',\n",
      " 'yellow',\n",
      " 'wood',\n",
      " 'and',\n",
      " 'sorry',\n",
      " 'i',\n",
      " 'could',\n",
      " 'not',\n",
      " 'travel',\n",
      " 'both',\n",
      " 'and',\n",
      " 'be',\n",
      " 'one',\n",
      " 'traveler,',\n",
      " 'long',\n",
      " 'i',\n",
      " 'stood',\n",
      " 'and',\n",
      " 'looked',\n",
      " 'down',\n",
      " 'one',\n",
      " 'as',\n",
      " 'far',\n",
      " 'as',\n",
      " 'i',\n",
      " 'could',\n",
      " 'to',\n",
      " 'where',\n",
      " 'it',\n",
      " 'bent',\n",
      " 'in',\n",
      " 'the',\n",
      " 'undergrowth',\n",
      " 'then',\n",
      " 'took',\n",
      " 'the',\n",
      " 'other,',\n",
      " 'as',\n",
      " 'just',\n",
      " 'as',\n",
      " 'fair',\n",
      " 'and',\n",
      " 'having',\n",
      " 'perhaps',\n",
      " 'the',\n",
      " 'better',\n",
      " 'claim,',\n",
      " 'because',\n",
      " 'it',\n",
      " 'was',\n",
      " 'grassy',\n",
      " 'and',\n",
      " 'wanted',\n",
      " 'wear',\n",
      " 'though',\n",
      " 'as',\n",
      " 'for',\n",
      " 'that,',\n",
      " 'the',\n",
      " 'passing',\n",
      " 'there',\n",
      " 'had',\n",
      " 'worn',\n",
      " 'them',\n",
      " 'really',\n",
      " 'about',\n",
      " 'the',\n",
      " 'same,']\n"
     ]
    }
   ],
   "source": [
    "poet = 'The Road Not Taken by Robert Frost Two roads diverged in a yellow wood And sorry I could not travel both And be one traveler, long I stood And looked down one as far as I could To where it bent in the undergrowth Then took the other, as just as fair And having perhaps the better claim, Because it was grassy and wanted wear Though as for that, the passing there Had worn them really about the same,'\n",
    "poet = poet.lower().split(\" \")\n",
    "pprint(poet)"
   ]
  },
  {
   "cell_type": "code",
   "execution_count": 152,
   "metadata": {},
   "outputs": [],
   "source": [
    "def get_freq(ls):\n",
    "    for i in ls:\n",
    "        freqs.append(note_freqs[i])\n",
    "    return freqs"
   ]
  },
  {
   "cell_type": "code",
   "execution_count": 153,
   "metadata": {},
   "outputs": [
    {
     "data": {
      "text/plain": [
       "[['t', 'h', 'e'],\n",
       " ['r', 'o', 'a', 'd'],\n",
       " ['n', 'o', 't'],\n",
       " ['t', 'a', 'k', 'e', 'n'],\n",
       " ['b', 'y'],\n",
       " ['r', 'o', 'b', 'e', 'r', 't'],\n",
       " ['f', 'r', 'o', 's', 't'],\n",
       " ['t', 'w', 'o'],\n",
       " ['r', 'o', 'a', 'd', 's'],\n",
       " ['d', 'i', 'v', 'e', 'r', 'g', 'e', 'd'],\n",
       " ['i', 'n'],\n",
       " ['a'],\n",
       " ['y', 'e', 'l', 'l', 'o', 'w'],\n",
       " ['w', 'o', 'o', 'd'],\n",
       " ['a', 'n', 'd'],\n",
       " ['s', 'o', 'r', 'r', 'y'],\n",
       " ['i'],\n",
       " ['c', 'o', 'u', 'l', 'd'],\n",
       " ['n', 'o', 't'],\n",
       " ['t', 'r', 'a', 'v', 'e', 'l'],\n",
       " ['b', 'o', 't', 'h'],\n",
       " ['a', 'n', 'd'],\n",
       " ['b', 'e'],\n",
       " ['o', 'n', 'e'],\n",
       " ['t', 'r', 'a', 'v', 'e', 'l', 'e', 'r', ','],\n",
       " ['l', 'o', 'n', 'g'],\n",
       " ['i'],\n",
       " ['s', 't', 'o', 'o', 'd'],\n",
       " ['a', 'n', 'd'],\n",
       " ['l', 'o', 'o', 'k', 'e', 'd'],\n",
       " ['d', 'o', 'w', 'n'],\n",
       " ['o', 'n', 'e'],\n",
       " ['a', 's'],\n",
       " ['f', 'a', 'r'],\n",
       " ['a', 's'],\n",
       " ['i'],\n",
       " ['c', 'o', 'u', 'l', 'd'],\n",
       " ['t', 'o'],\n",
       " ['w', 'h', 'e', 'r', 'e'],\n",
       " ['i', 't'],\n",
       " ['b', 'e', 'n', 't'],\n",
       " ['i', 'n'],\n",
       " ['t', 'h', 'e'],\n",
       " ['u', 'n', 'd', 'e', 'r', 'g', 'r', 'o', 'w', 't', 'h'],\n",
       " ['t', 'h', 'e', 'n'],\n",
       " ['t', 'o', 'o', 'k'],\n",
       " ['t', 'h', 'e'],\n",
       " ['o', 't', 'h', 'e', 'r', ','],\n",
       " ['a', 's'],\n",
       " ['j', 'u', 's', 't'],\n",
       " ['a', 's'],\n",
       " ['f', 'a', 'i', 'r'],\n",
       " ['a', 'n', 'd'],\n",
       " ['h', 'a', 'v', 'i', 'n', 'g'],\n",
       " ['p', 'e', 'r', 'h', 'a', 'p', 's'],\n",
       " ['t', 'h', 'e'],\n",
       " ['b', 'e', 't', 't', 'e', 'r'],\n",
       " ['c', 'l', 'a', 'i', 'm', ','],\n",
       " ['b', 'e', 'c', 'a', 'u', 's', 'e'],\n",
       " ['i', 't'],\n",
       " ['w', 'a', 's'],\n",
       " ['g', 'r', 'a', 's', 's', 'y'],\n",
       " ['a', 'n', 'd'],\n",
       " ['w', 'a', 'n', 't', 'e', 'd'],\n",
       " ['w', 'e', 'a', 'r'],\n",
       " ['t', 'h', 'o', 'u', 'g', 'h'],\n",
       " ['a', 's'],\n",
       " ['f', 'o', 'r'],\n",
       " ['t', 'h', 'a', 't', ','],\n",
       " ['t', 'h', 'e'],\n",
       " ['p', 'a', 's', 's', 'i', 'n', 'g'],\n",
       " ['t', 'h', 'e', 'r', 'e'],\n",
       " ['h', 'a', 'd'],\n",
       " ['w', 'o', 'r', 'n'],\n",
       " ['t', 'h', 'e', 'm'],\n",
       " ['r', 'e', 'a', 'l', 'l', 'y'],\n",
       " ['a', 'b', 'o', 'u', 't'],\n",
       " ['t', 'h', 'e'],\n",
       " ['s', 'a', 'm', 'e', ',']]"
      ]
     },
     "execution_count": 153,
     "metadata": {},
     "output_type": "execute_result"
    }
   ],
   "source": [
    "music_notes = [[] for _ in range(len(poet))]\n",
    "for idx, word in enumerate(poet):\n",
    "    for letter in word:\n",
    "        music_notes[idx].append(letter)\n",
    "music_notes"
   ]
  },
  {
   "cell_type": "code",
   "execution_count": 154,
   "metadata": {},
   "outputs": [],
   "source": [
    "import numpy as np\n",
    "from scipy.io.wavfile import write\n",
    "from scipy import signal\n",
    "import os\n",
    "\n",
    "samplerate = 44100 #Frequecy in Hz\n",
    "\n",
    "def get_cubicwave(chords, duration=0.5):\n",
    "    '''\n",
    "    Function takes the \"frequecy\" and \"time_duration\" for a wave \n",
    "    as the input and returns a \"numpy array\" of values at all points \n",
    "    in time\n",
    "    '''\n",
    "    \n",
    "    amplitude = 4096\n",
    "    t = np.linspace(0, duration, int(samplerate * duration))\n",
    "    # wave = amplitude * (np.sin(2 * np.pi * freq * t) + np.cos(2 * np.pi * freq * t))\n",
    "    # wave = signal.sawtooth(np.sin(2 * np.pi * freq * t))\n",
    "    wave = 0\n",
    "    for i in chords:\n",
    "        wave += amplitude * signal.cubic(np.sin(2 * np.pi * i * t)) \n",
    "    noise = np.random.uniform(-1, 1, len(t))*1\n",
    "    wave += noise\n",
    "    return wave"
   ]
  },
  {
   "cell_type": "code",
   "execution_count": 155,
   "metadata": {},
   "outputs": [],
   "source": [
    "freqs = [[] for _ in range(len(music_notes))]\n",
    "for idx, values in enumerate(music_notes):\n",
    "    for value in values: \n",
    "        freqs[idx].append(note_freqs[value])"
   ]
  },
  {
   "cell_type": "code",
   "execution_count": 156,
   "metadata": {},
   "outputs": [],
   "source": [
    "def get_song_data(music_notes):\n",
    "    \n",
    "    song = []\n",
    "    for i, note in enumerate(music_notes):\n",
    "        song.append(get_cubicwave(note, duration=0.5))\n",
    "    song = np.concatenate(song)\n",
    "    return song\n",
    "\n",
    "data = get_song_data(freqs)\n",
    "data = data * (16300/np.max(data))"
   ]
  },
  {
   "cell_type": "code",
   "execution_count": 157,
   "metadata": {},
   "outputs": [
    {
     "data": {
      "text/plain": [
       "[<matplotlib.lines.Line2D at 0x2872b0d7610>]"
      ]
     },
     "execution_count": 157,
     "metadata": {},
     "output_type": "execute_result"
    },
    {
     "data": {
      "image/png": "[encoded data removed]",
      "text/plain": [
       "<Figure size 432x288 with 1 Axes>"
      ]
     },
     "metadata": {
      "needs_background": "light"
     },
     "output_type": "display_data"
    }
   ],
   "source": [
    "plt.plot(data)"
   ]
  },
  {
   "cell_type": "code",
   "execution_count": 158,
   "metadata": {},
   "outputs": [
    {
     "data": {
      "text/plain": [
       "0"
      ]
     },
     "execution_count": 158,
     "metadata": {},
     "output_type": "execute_result"
    }
   ],
   "source": [
    "write('poet.wav', samplerate, data.astype(np.int16))\n",
    "# play wav file\n",
    "os.system(\"poet.wav\")"
   ]
  }
 ],
 "metadata": {
  "interpreter": {
   "hash": "be3a450ae056f83d7ade2b901f772a26fc828bc81af96bc522c29bb44d5db4b0"
  },
  "kernelspec": {
   "display_name": "Python 3.9.6 64-bit ('tf_gpu': conda)",
   "name": "python3"
  },
  "language_info": {
   "codemirror_mode": {
    "name": "ipython",
    "version": 3
   },
   "file_extension": ".py",
   "mimetype": "text/x-python",
   "name": "python",
   "nbconvert_exporter": "python",
   "pygments_lexer": "ipython3",
   "version": "3.9.6"
  },
  "orig_nbformat": 4
 },
 "nbformat": 4,
 "nbformat_minor": 2
}

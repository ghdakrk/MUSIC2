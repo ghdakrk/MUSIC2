{
 "cells": [
  {
   "cell_type": "code",
   "execution_count": 1,
   "metadata": {},
   "outputs": [],
   "source": [
    "note = 'c1 c#1 d1 d#1 e1 f1 f#1 g1 g#1 a1 a#1 b1 c2 c#2 d2 d#2 e2 f2 f#2 g2 g#2 a2 a#2 b2 c3 c#3 d3 d#3 e3 f3 f#3 g3 g#3 a3 a#3 b3'.split(\" \")\n",
    "base_freq = 62 #hz\n",
    "note_freqs = {note[i]: base_freq * pow(2,(i/12)) for i in range(36)}\n",
    "note_freqs[\"\"] = 0"
   ]
  },
  {
   "cell_type": "code",
   "execution_count": 2,
   "metadata": {},
   "outputs": [],
   "source": [
    "jazz_chord = {\n",
    "                1: ['f2', 'a2', 'c3', \"e3\"],\n",
    "                2: ['e2', 'g2', 'b2', \"d3\"],\n",
    "                3: ['d2', 'f2', 'a2', \"c3\"],\n",
    "                4: ['f2', 'a2', 'c3', \"e3\"],\n",
    "                5: ['f2', 'a2', 'b2', \"e3\"],\n",
    "                6: ['e2', 'g2', 'b2', \"d3\"],\n",
    "                7: ['d2', 'f2', 'a2', \"c3\"],\n",
    "                8: ['c2', 'e2', 'g2', \"b2\"],\n",
    "            }"
   ]
  },
  {
   "cell_type": "code",
   "execution_count": 3,
   "metadata": {},
   "outputs": [
    {
     "data": {
      "text/plain": [
       "28"
      ]
     },
     "execution_count": 3,
     "metadata": {},
     "output_type": "execute_result"
    }
   ],
   "source": [
    "# 조합찾기\n",
    "\n",
    "from itertools import combinations\n",
    "madi = [i+1 for i in range(8)]\n",
    "com = list(combinations(madi, 6))\n",
    "len(com)\n"
   ]
  },
  {
   "cell_type": "code",
   "execution_count": 4,
   "metadata": {},
   "outputs": [
    {
     "data": {
      "text/plain": [
       "(2, 3, 4, 5, 7, 8)"
      ]
     },
     "execution_count": 4,
     "metadata": {},
     "output_type": "execute_result"
    }
   ],
   "source": [
    "chord1 = com[np.random.randint(0, len(com))] # chord \n",
    "chord2 = com[np.random.randint(0, len(com))] \n",
    "chord1"
   ]
  },
  {
   "cell_type": "code",
   "execution_count": 5,
   "metadata": {},
   "outputs": [],
   "source": [
    "chord1 = [jazz_chord[i] for i in np.random.randint(1, len(jazz_chord), 8)]\n",
    "chord2 = [jazz_chord[i] for i in np.random.randint(1, len(jazz_chord), 8)]"
   ]
  },
  {
   "cell_type": "code",
   "execution_count": 6,
   "metadata": {},
   "outputs": [
    {
     "data": {
      "text/plain": [
       "8"
      ]
     },
     "execution_count": 6,
     "metadata": {},
     "output_type": "execute_result"
    }
   ],
   "source": [
    "len(jazz_chord)"
   ]
  },
  {
   "cell_type": "code",
   "execution_count": 7,
   "metadata": {},
   "outputs": [],
   "source": [
    "chord1 = np.random.randint(1, len(jazz_chord)-1, 8)\n",
    "chord2 = np.random.randint(1, len(jazz_chord)-1, 8)"
   ]
  },
  {
   "cell_type": "code",
   "execution_count": 8,
   "metadata": {},
   "outputs": [],
   "source": [
    "chord = list(chord1) + list(chord2)"
   ]
  },
  {
   "cell_type": "code",
   "execution_count": 9,
   "metadata": {},
   "outputs": [
    {
     "data": {
      "text/plain": [
       "[6, 3, 6, 4, 2, 6, 5, 6, 3, 6, 6, 2, 3, 1, 3, 6]"
      ]
     },
     "execution_count": 9,
     "metadata": {},
     "output_type": "execute_result"
    }
   ],
   "source": [
    "chord"
   ]
  },
  {
   "cell_type": "code",
   "execution_count": 10,
   "metadata": {},
   "outputs": [],
   "source": [
    "def get_freq(ls):\n",
    "    freqs = []\n",
    "    for i in ls:\n",
    "        freqs.append(note_freqs[i])\n",
    "    return freqs\n",
    "\n",
    "def get_melody_freq(note):\n",
    "    freqs = []\n",
    "    ls = note.split(\" \")\n",
    "    for i in ls:\n",
    "        freqs.append(note_freqs[i])\n",
    "    return freqs"
   ]
  },
  {
   "cell_type": "code",
   "execution_count": 11,
   "metadata": {},
   "outputs": [],
   "source": [
    "import numpy as np\n",
    "from scipy.io.wavfile import write\n",
    "from scipy import signal\n",
    "import os\n",
    "\n",
    "samplerate = 44100 #Frequecy in Hz\n",
    "\n",
    "def get_cubicwave(chords, duration=0.5):\n",
    "    '''\n",
    "    Function takes the \"frequecy\" and \"time_duration\" for a wave \n",
    "    as the input and returns a \"numpy array\" of values at all points \n",
    "    in time\n",
    "    '''\n",
    "    \n",
    "    amplitude = 4096\n",
    "    t = np.linspace(0, duration, int(samplerate * duration))\n",
    "    # wave = amplitude * (np.sin(2 * np.pi * freq * t) + np.cos(2 * np.pi * freq * t))\n",
    "    # wave = signal.sawtooth(np.sin(2 * np.pi * freq * t))\n",
    "    wave = 0\n",
    "    for i in chords:\n",
    "        wave += amplitude * (np.sin(2 * np.pi * i * t) + np.sin(6 * np.pi * i * t)/3 + np.sin(10 * np.pi * i * t)/5 + np.sin(18* np.pi * i * t)/9) \n",
    "\n",
    "    return wave\n",
    "\n",
    "def get_sinewave(chords, duration=0.5):\n",
    "    '''\n",
    "    Function takes the \"frequecy\" and \"time_duration\" for a wave \n",
    "    as the input and returns a \"numpy array\" of values at all points \n",
    "    in time\n",
    "    '''\n",
    "    \n",
    "    amplitude = 4096\n",
    "    t = np.linspace(0, duration, int(samplerate * duration))\n",
    "    # wave = amplitude * (np.sin(2 * np.pi * freq * t) + np.cos(2 * np.pi * freq * t))\n",
    "    # wave = signal.sawtooth(np.sin(2 * np.pi * freq * t))\n",
    "    wave = 0\n",
    "    for i in chords:\n",
    "        wave += amplitude * np.sin(np.sin(2 * np.pi * i * t)) \n",
    "    noise = np.random.uniform(-1, 1, len(t))*1\n",
    "    wave += noise\n",
    "    return wave"
   ]
  },
  {
   "cell_type": "code",
   "execution_count": 12,
   "metadata": {},
   "outputs": [
    {
     "data": {
      "text/plain": [
       "1411200"
      ]
     },
     "execution_count": 12,
     "metadata": {},
     "output_type": "execute_result"
    }
   ],
   "source": [
    "# chord\n",
    "def get_song_data(chord):\n",
    "    \n",
    "    song = []\n",
    "    for i, note in enumerate(chord):\n",
    "        song.append(get_cubicwave(note, duration=2))\n",
    "    song = np.concatenate(song)\n",
    "    return song\n",
    "    \n",
    "chord_note = [get_freq(jazz_chord[i]) for i in chord]\n",
    "data_chord = get_song_data(chord_note)\n",
    "data_chord = data_chord * (16300/np.max(data_chord))\n",
    "len(data_chord)"
   ]
  },
  {
   "cell_type": "code",
   "execution_count": 13,
   "metadata": {},
   "outputs": [],
   "source": [
    "# melody\n",
    "# def get_song_data(music_note):\n",
    "    \n",
    "#     song = []\n",
    "#     for i, note in enumerate(music_note):\n",
    "#         song.append(get_cubicwave(note, duration=1))\n",
    "#     song = np.concatenate(song)\n",
    "#     return song\n",
    "\n",
    "# melody1 = [('c1 e1'), ('c2 e1'), ('g1'), ('c1 f1'), (''), ('c1 e1'), ('f1 b1'), ('g1 b1')]\n",
    "# melody2 = [('c1 e1'), ('c2 e1'), ('g1 e1'), ('c1 f1'), (''), ('c1 e1'), ('f1 b1'), ('c1 e1')]\n",
    "# melody = melody1 + melody2\n",
    "# melody = melody * 2\n",
    "# melody_note = [get_melody_freq(i) for i in melody[:64]]\n",
    "# data_melody = get_song_data(melody_note)\n",
    "# data_melody = data_melody * (16300/np.max(data_melody))\n",
    "# len(data_melody)"
   ]
  },
  {
   "cell_type": "code",
   "execution_count": 14,
   "metadata": {},
   "outputs": [],
   "source": [
    "data = data_chord "
   ]
  },
  {
   "cell_type": "code",
   "execution_count": 15,
   "metadata": {},
   "outputs": [
    {
     "data": {
      "text/plain": [
       "0"
      ]
     },
     "execution_count": 15,
     "metadata": {},
     "output_type": "execute_result"
    }
   ],
   "source": [
    "write('jazz_chord.wav', samplerate, data.astype(np.int16))\n",
    "# play wav file\n",
    "os.system(\"jazz_chord.wav\")"
   ]
  },
  {
   "cell_type": "code",
   "execution_count": null,
   "metadata": {},
   "outputs": [],
   "source": []
  }
 ],
 "metadata": {
  "interpreter": {
   "hash": "be3a450ae056f83d7ade2b901f772a26fc828bc81af96bc522c29bb44d5db4b0"
  },
  "kernelspec": {
   "display_name": "Python 3.9.6 64-bit ('tf_gpu': conda)",
   "name": "python3"
  },
  "language_info": {
   "codemirror_mode": {
    "name": "ipython",
    "version": 3
   },
   "file_extension": ".py",
   "mimetype": "text/x-python",
   "name": "python",
   "nbconvert_exporter": "python",
   "pygments_lexer": "ipython3",
   "version": "3.9.7"
  },
  "orig_nbformat": 4
 },
 "nbformat": 4,
 "nbformat_minor": 2
}

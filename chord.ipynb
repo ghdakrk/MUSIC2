{
 "cells": [
  {
   "cell_type": "code",
   "execution_count": 54,
   "metadata": {},
   "outputs": [],
   "source": [
    "note = 'c1 c#1 d1 d#1 e1 f1 f#1 g1 g#1 a1 a#1 b1 c2 c#2 d2 d#2 e2 f2 f#2 g2 g#2 a2 a#2 b2'.split(\" \")\n",
    "base_freq = 131 #hz\n",
    "note_freqs = {note[i]: base_freq * pow(2,(i/12)) for i in range(24)}\n",
    "note_freqs[\"\"] = 0"
   ]
  },
  {
   "cell_type": "code",
   "execution_count": 55,
   "metadata": {},
   "outputs": [],
   "source": [
    "money_chord = {\n",
    "                1: ['c1', 'e1', 'g1'],\n",
    "                2: ['e1', 'g#1', 'b1', \"d1\"],\n",
    "                3: ['f1', 'a1', 'c2'],\n",
    "                4 : ['g1', 'b1', 'd2'],\n",
    "                5: ['a1', 'c2', 'e2'],\n",
    "            }"
   ]
  },
  {
   "cell_type": "code",
   "execution_count": 56,
   "metadata": {},
   "outputs": [
    {
     "data": {
      "text/plain": [
       "{1: ['c1', 'e1', 'g1'],\n",
       " 2: ['e1', 'g#1', 'b1', 'd1'],\n",
       " 3: ['f1', 'a1', 'c2'],\n",
       " 4: ['g1', 'b1', 'd2'],\n",
       " 5: ['a1', 'c2', 'e2']}"
      ]
     },
     "execution_count": 56,
     "metadata": {},
     "output_type": "execute_result"
    }
   ],
   "source": [
    "money_chord"
   ]
  },
  {
   "cell_type": "code",
   "execution_count": 57,
   "metadata": {},
   "outputs": [
    {
     "data": {
      "text/plain": [
       "120"
      ]
     },
     "execution_count": 57,
     "metadata": {},
     "output_type": "execute_result"
    }
   ],
   "source": [
    "from itertools import permutations\n",
    "madi = [i+1 for i in range(5)]\n",
    "com = list(permutations(madi, 4))\n",
    "len(com)\n"
   ]
  },
  {
   "cell_type": "code",
   "execution_count": 58,
   "metadata": {},
   "outputs": [],
   "source": [
    "chord1 = com[np.random.randint(0,120)] # chord \n",
    "chord2 = com[np.random.randint(0,120)] "
   ]
  },
  {
   "cell_type": "code",
   "execution_count": 59,
   "metadata": {},
   "outputs": [],
   "source": [
    "chord = chord1 + chord2\n",
    "chord = chord * 2"
   ]
  },
  {
   "cell_type": "code",
   "execution_count": 60,
   "metadata": {},
   "outputs": [],
   "source": [
    "def get_freq(ls):\n",
    "    freqs = []\n",
    "    for i in ls:\n",
    "        freqs.append(note_freqs[i])\n",
    "    return freqs\n",
    "\n",
    "def get_melody_freq(note):\n",
    "    freqs = []\n",
    "    ls = note.split(\" \")\n",
    "    for i in ls:\n",
    "        freqs.append(note_freqs[i])\n",
    "    return freqs"
   ]
  },
  {
   "cell_type": "code",
   "execution_count": 61,
   "metadata": {},
   "outputs": [],
   "source": [
    "import numpy as np\n",
    "from scipy.io.wavfile import write\n",
    "from scipy import signal\n",
    "import os\n",
    "\n",
    "samplerate = 44100 #Frequecy in Hz\n",
    "\n",
    "def get_cubicwave(chords, duration=0.5):\n",
    "    '''\n",
    "    Function takes the \"frequecy\" and \"time_duration\" for a wave \n",
    "    as the input and returns a \"numpy array\" of values at all points \n",
    "    in time\n",
    "    '''\n",
    "    \n",
    "    amplitude = 4096\n",
    "    t = np.linspace(0, duration, int(samplerate * duration))\n",
    "    # wave = amplitude * (np.sin(2 * np.pi * freq * t) + np.cos(2 * np.pi * freq * t))\n",
    "    # wave = signal.sawtooth(np.sin(2 * np.pi * freq * t))\n",
    "    wave = 0\n",
    "    for i in chords:\n",
    "        wave += amplitude * (np.sin(2 * np.pi * i * t) + np.sin(6 * np.pi * i * t)/3 + np.sin(10 * np.pi * i * t)/5) \n",
    "\n",
    "    return wave\n",
    "\n",
    "def get_sinewave(chords, duration=0.5):\n",
    "    '''\n",
    "    Function takes the \"frequecy\" and \"time_duration\" for a wave \n",
    "    as the input and returns a \"numpy array\" of values at all points \n",
    "    in time\n",
    "    '''\n",
    "    \n",
    "    amplitude = 4096\n",
    "    t = np.linspace(0, duration, int(samplerate * duration))\n",
    "    # wave = amplitude * (np.sin(2 * np.pi * freq * t) + np.cos(2 * np.pi * freq * t))\n",
    "    # wave = signal.sawtooth(np.sin(2 * np.pi * freq * t))\n",
    "    wave = 0\n",
    "    for i in chords:\n",
    "        wave += amplitude * np.sin(np.sin(2 * np.pi * i * t)) \n",
    "    noise = np.random.uniform(-1, 1, len(t))*1\n",
    "    wave += noise\n",
    "    return wave"
   ]
  },
  {
   "cell_type": "code",
   "execution_count": 62,
   "metadata": {},
   "outputs": [
    {
     "data": {
      "text/plain": [
       "1411200"
      ]
     },
     "execution_count": 62,
     "metadata": {},
     "output_type": "execute_result"
    }
   ],
   "source": [
    "# chord\n",
    "def get_song_data(music_note):\n",
    "    \n",
    "    song = []\n",
    "    for i, note in enumerate(music_note):\n",
    "        song.append(get_cubicwave(note, duration=2))\n",
    "    song = np.concatenate(song)\n",
    "    return song\n",
    "    \n",
    "chord_note = [get_freq(money_chord[i]) for i in chord]\n",
    "data_chord = get_song_data(chord_note)\n",
    "data_chord = data_chord * (16300/np.max(data_chord))\n",
    "len(data_chord)"
   ]
  },
  {
   "cell_type": "code",
   "execution_count": 63,
   "metadata": {},
   "outputs": [],
   "source": [
    "rand_melody1 = np.random.randint(-1, 4, 8) * 2\n",
    "rand_melody2 = np.random.randint(-1, 8, 4) * 2\n",
    "rand_melody3 = np.random.randint(-1, 4, 6) \n",
    "temp = []\n",
    "\n",
    "for i in rand_melody1:\n",
    "    temp.append(list(note_freqs.keys())[i])\n",
    "for i in rand_melody1:\n",
    "    temp.append(list(note_freqs.keys())[i])\n",
    "for i in rand_melody2:\n",
    "    temp.append(list(note_freqs.keys())[i])\n",
    "for i in rand_melody2:\n",
    "    temp.append(list(note_freqs.keys())[i])\n",
    "for i in rand_melody3:\n",
    "    temp.append(list(note_freqs.keys())[i])\n",
    "for i in rand_melody3:\n",
    "    temp.append(list(note_freqs.keys())[i])"
   ]
  },
  {
   "cell_type": "code",
   "execution_count": 64,
   "metadata": {},
   "outputs": [
    {
     "data": {
      "text/plain": [
       "1411200"
      ]
     },
     "execution_count": 64,
     "metadata": {},
     "output_type": "execute_result"
    }
   ],
   "source": [
    "# melody\n",
    "def get_song_data(music_note):\n",
    "    \n",
    "    song = []\n",
    "    for i, note in enumerate(music_note):\n",
    "        song.append(get_cubicwave(note, duration=1))\n",
    "    song = np.concatenate(song)\n",
    "    return song\n",
    "\n",
    "melody1 = [('c1 e1'), ('c2 e1'), ('g1'), ('c1 f1'), (''), ('c1 e1'), ('f1 b1'), ('g1 b1')]\n",
    "melody2 = [('c1 e1'), ('c2 e1'), ('g1 e1'), ('c1 f1'), (''), ('c1 e1'), ('f1 b1'), ('c1 e1')]\n",
    "melody = melody1 + melody2\n",
    "melody = melody * 2\n",
    "melody_note = [get_melody_freq(i) for i in melody[:64]]\n",
    "data_melody = get_song_data(melody_note)\n",
    "data_melody = data_melody * (16300/np.max(data_melody))\n",
    "len(data_melody)"
   ]
  },
  {
   "cell_type": "code",
   "execution_count": 65,
   "metadata": {},
   "outputs": [],
   "source": [
    "data = data_chord + data_melody"
   ]
  },
  {
   "cell_type": "code",
   "execution_count": 66,
   "metadata": {},
   "outputs": [
    {
     "data": {
      "text/plain": [
       "0"
      ]
     },
     "execution_count": 66,
     "metadata": {},
     "output_type": "execute_result"
    }
   ],
   "source": [
    "write('chord.wav', samplerate, data.astype(np.int16))\n",
    "# play wav file\n",
    "os.system(\"chord.wav\")"
   ]
  },
  {
   "cell_type": "code",
   "execution_count": null,
   "metadata": {},
   "outputs": [],
   "source": []
  }
 ],
 "metadata": {
  "interpreter": {
   "hash": "be3a450ae056f83d7ade2b901f772a26fc828bc81af96bc522c29bb44d5db4b0"
  },
  "kernelspec": {
   "display_name": "Python 3.9.6 64-bit ('tf_gpu': conda)",
   "name": "python3"
  },
  "language_info": {
   "codemirror_mode": {
    "name": "ipython",
    "version": 3
   },
   "file_extension": ".py",
   "mimetype": "text/x-python",
   "name": "python",
   "nbconvert_exporter": "python",
   "pygments_lexer": "ipython3",
   "version": "3.9.6"
  },
  "orig_nbformat": 4
 },
 "nbformat": 4,
 "nbformat_minor": 2
}
